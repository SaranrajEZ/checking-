{
 "cells": [
  {
   "cell_type": "code",
   "execution_count": 1,
   "id": "b1eb2e64-c2ef-429f-86a5-d76a9ca84184",
   "metadata": {},
   "outputs": [
    {
     "name": "stderr",
     "output_type": "stream",
     "text": [
      "[*********************100%%**********************]  1 of 1 completed"
     ]
    },
    {
     "name": "stdout",
     "output_type": "stream",
     "text": [
      "len: (150, 1)\n",
      "120\n",
      "X_train length: (120, 1)\n",
      "X_test length: (30, 1)\n",
      "y_train length: (120, 1)\n",
      "y_test length: (30, 1)\n"
     ]
    },
    {
     "name": "stderr",
     "output_type": "stream",
     "text": [
      "\n"
     ]
    }
   ],
   "source": [
    "import pandas as pd\n",
    "from nsepy import get_history\n",
    "import datetime as dt\n",
    "import yfinance as yf\n",
    "from sklearn.preprocessing import MinMaxScaler\n",
    "from statsmodels.tsa.ar_model import AutoReg\n",
    "from sklearn.metrics import mean_squared_error, mean_absolute_percentage_error, r2_score\n",
    "import matplotlib.pyplot as plt\n",
    "\n",
    "\n",
    "import pandas as pd\n",
    "\n",
    "#!pip install yfinance\n",
    "from nsepy import get_history\n",
    "import datetime as dt\n",
    "import yfinance as yf\n",
    "    \n",
    "# Define the start and end dates\n",
    "start = dt.datetime(2021, 6, 1)\n",
    "end = dt.datetime(2022, 1, 5)\n",
    "symbol='AXISBANK.NS'\n",
    "    \n",
    "stk_data=yf.download(symbol, start=start, end=end)\n",
    "stk_data\n",
    "    \n",
    "stk_data=stk_data[['Open','High','Low','Close']]\n",
    "stk_data\n",
    "\n",
    "column='Close'\n",
    "\n",
    "from sklearn.preprocessing import MinMaxScaler\n",
    "ms=MinMaxScaler()\n",
    "data1=ms.fit_transform(stk_data[[column]])\n",
    "print('len:',data1.shape)\n",
    "\n",
    "len(data1)\n",
    "\n",
    "training_size = round(len(data1 ) * 0.80)\n",
    "print(training_size)\n",
    "X_train=data1[:training_size]\n",
    "X_test=data1[training_size: ]\n",
    "print(\"X_train length:\",X_train.shape)\n",
    "print(\"X_test length:\",X_test.shape)\n",
    "y_train=data1[:training_size]\n",
    "y_test=data1[training_size: ]\n",
    "print(\"y_train length:\",y_train.shape)\n",
    "print(\"y_test length:\",y_test.shape)"
   ]
  },
  {
   "cell_type": "code",
   "execution_count": 3,
   "id": "95620c12-5819-424f-b5a6-58aff7ed24e4",
   "metadata": {},
   "outputs": [],
   "source": [
    "import warnings\n",
    "warnings.filterwarnings(\"ignore\")"
   ]
  },
  {
   "cell_type": "code",
   "execution_count": 14,
   "id": "6a7dcb34-19bc-4346-b151-24a1b7135415",
   "metadata": {},
   "outputs": [
    {
     "name": "stdout",
     "output_type": "stream",
     "text": [
      "AR Lag=1, MA Lag=1, Trend=n\n",
      "RMSE-Testset: 0.08845208063997888\n",
      "MAPE-Testset: 26351406159513.94\n",
      "*********\n",
      "AR Lag=1, MA Lag=1, Trend=t\n",
      "RMSE-Testset: 0.1325711158737561\n",
      "MAPE-Testset: 23731384940778.383\n",
      "*********\n",
      "AR Lag=1, MA Lag=1, Trend=c\n",
      "RMSE-Testset: 0.28952050151850706\n",
      "MAPE-Testset: 43908815270470.64\n",
      "*********\n",
      "AR Lag=1, MA Lag=1, Trend=ct\n",
      "RMSE-Testset: 0.19552411640578812\n",
      "MAPE-Testset: 36382613056160.61\n",
      "*********\n",
      "AR Lag=1, MA Lag=2, Trend=n\n",
      "RMSE-Testset: 0.08820586812089892\n",
      "MAPE-Testset: 26593759265401.27\n",
      "*********\n",
      "AR Lag=1, MA Lag=2, Trend=t\n",
      "RMSE-Testset: 0.18868776235468326\n",
      "MAPE-Testset: 22363880781896.766\n",
      "*********\n",
      "AR Lag=1, MA Lag=2, Trend=c\n",
      "RMSE-Testset: 0.30454275754438587\n",
      "MAPE-Testset: 45574563758312.99\n",
      "*********\n",
      "AR Lag=1, MA Lag=2, Trend=ct\n",
      "RMSE-Testset: 0.2051273590021323\n",
      "MAPE-Testset: 37419185934937.52\n",
      "*********\n",
      "AR Lag=2, MA Lag=1, Trend=n\n",
      "RMSE-Testset: 0.08835948403547952\n",
      "MAPE-Testset: 26436094342240.008\n",
      "*********\n",
      "AR Lag=2, MA Lag=1, Trend=t\n",
      "RMSE-Testset: 0.15093266779875272\n",
      "MAPE-Testset: 23629939159009.33\n",
      "*********\n",
      "AR Lag=2, MA Lag=1, Trend=c\n",
      "RMSE-Testset: 0.29843478719049427\n",
      "MAPE-Testset: 44783395781276.91\n",
      "*********\n",
      "AR Lag=2, MA Lag=1, Trend=ct\n",
      "RMSE-Testset: 0.17267467295101818\n",
      "MAPE-Testset: 34839385970472.88\n",
      "*********\n",
      "AR Lag=2, MA Lag=2, Trend=n\n",
      "RMSE-Testset: 0.10413981997142215\n",
      "MAPE-Testset: 32911497776844.527\n",
      "*********\n",
      "AR Lag=2, MA Lag=2, Trend=t\n",
      "RMSE-Testset: 0.2639250366867129\n",
      "MAPE-Testset: 16019777167012.08\n",
      "*********\n",
      "AR Lag=2, MA Lag=2, Trend=c\n",
      "RMSE-Testset: 0.29036142662399445\n",
      "MAPE-Testset: 43962083330237.086\n",
      "*********\n",
      "AR Lag=2, MA Lag=2, Trend=ct\n",
      "RMSE-Testset: 0.23602549159062278\n",
      "MAPE-Testset: 43147995664446.3\n",
      "*********\n"
     ]
    }
   ],
   "source": [
    "from statsmodels.tsa.statespace.sarimax import SARIMAX\n",
    "from sklearn.metrics import mean_squared_error, mean_absolute_percentage_error\n",
    "\n",
    "# Example lags for AR and MA components\n",
    "ar_lags = [1, 2]  # AR lags\n",
    "ma_lags = [1, 2]  # MA lags\n",
    "trends = ['n', 't', 'c', 'ct']\n",
    "\n",
    "for p in ar_lags:\n",
    "    for q in ma_lags:\n",
    "        for td in trends:\n",
    "            # Fit the ARMA model\n",
    "            model = SARIMAX(X_train, order=(p, 0, q), trend=td)\n",
    "            model_fit = model.fit(disp=False)\n",
    "            y_pred = model_fit.get_forecast(steps=len(y_test)).predicted_mean\n",
    "            \n",
    "            # Calculate RMSE and MAPE\n",
    "            rmse = mean_squared_error(y_test, y_pred, squared=False)\n",
    "            mape = mean_absolute_percentage_error(y_test, y_pred)\n",
    "            print('AR Lag={}, MA Lag={}, Trend={}'.format(p, q, td))\n",
    "            print(\"RMSE-Testset:\", rmse)\n",
    "            print(\"MAPE-Testset:\", mape)\n",
    "            print('*********')\n"
   ]
  },
  {
   "cell_type": "code",
   "execution_count": 15,
   "id": "3ee79042-4153-433a-9ed6-416f6d3dd72b",
   "metadata": {},
   "outputs": [
    {
     "name": "stdout",
     "output_type": "stream",
     "text": [
      "Lag=1, Trend=n\n",
      "RMSE-Testset: 0.08745948767721823\n",
      "maPe-Testset: 25989777444545.574\n",
      "R^2-Testset: -0.06126360135019282\n",
      "*************\n"
     ]
    }
   ],
   "source": [
    "i = 1\n",
    "td = \"n\"\n",
    "model = AutoReg(X_train, lags=i, trend=td)\n",
    "model_fit = model.fit()\n",
    "y_pred = model_fit.predict(len(X_train), len(data1) - 1)\n",
    "\n",
    "# Calculate RMSE, MAPE and R^2\n",
    "rmse = mean_squared_error(y_test, y_pred, squared=False)\n",
    "mape = mean_absolute_percentage_error(y_test, y_pred)\n",
    "r2 = r2_score(y_test, y_pred)\n",
    "print(\"Lag={}, Trend={}\".format(i, td))\n",
    "print(\"RMSE-Testset:\", rmse)\n",
    "print(\"maPe-Testset:\", mape)\n",
    "print(\"R^2-Testset:\", r2)\n",
    "print('*************')\n"
   ]
  },
  {
   "cell_type": "code",
   "execution_count": 6,
   "id": "c02f7cee-1ed6-43d7-bbc2-99355686fc2c",
   "metadata": {},
   "outputs": [
    {
     "data": {
      "image/png": "[encoded data removed]",
      "text/plain": [
       "<Figure size 1000x500 with 1 Axes>"
      ]
     },
     "metadata": {},
     "output_type": "display_data"
    }
   ],
   "source": [
    "plt.figure(figsize=(10, 5))\n",
    "plt.plot(y_test, color='blue', label=\"Actual\")\n",
    "plt.plot(y_pred, color='green', label=\"Predicted\")\n",
    "plt.title(\"AXISBANK-Close-AR-Norm\")\n",
    "plt.xlabel(\"Days\")\n",
    "plt.ylabel(\"Prices\")\n",
    "plt.legend()\n",
    "plt.show()"
   ]
  },
  {
   "cell_type": "code",
   "execution_count": 20,
   "id": "9e1a57b3-a4a1-4cf1-849d-318a9791428a",
   "metadata": {},
   "outputs": [
    {
     "name": "stdout",
     "output_type": "stream",
     "text": [
      "An error occurred for p=0, q=0: name 'best_rmse' is not defined\n",
      "An error occurred for p=0, q=1: name 'best_rmse' is not defined\n",
      "An error occurred for p=0, q=2: name 'best_rmse' is not defined\n",
      "An error occurred for p=0, q=3: name 'best_rmse' is not defined\n",
      "An error occurred for p=0, q=4: name 'best_rmse' is not defined\n",
      "An error occurred for p=1, q=0: name 'best_rmse' is not defined\n",
      "An error occurred for p=1, q=1: name 'best_rmse' is not defined\n",
      "An error occurred for p=1, q=2: name 'best_rmse' is not defined\n",
      "An error occurred for p=1, q=3: name 'best_rmse' is not defined\n",
      "An error occurred for p=1, q=4: name 'best_rmse' is not defined\n",
      "An error occurred for p=2, q=0: name 'best_rmse' is not defined\n",
      "An error occurred for p=2, q=1: name 'best_rmse' is not defined\n",
      "An error occurred for p=2, q=2: name 'best_rmse' is not defined\n",
      "An error occurred for p=2, q=3: name 'best_rmse' is not defined\n",
      "An error occurred for p=2, q=4: name 'best_rmse' is not defined\n",
      "An error occurred for p=3, q=0: name 'best_rmse' is not defined\n",
      "An error occurred for p=3, q=1: name 'best_rmse' is not defined\n",
      "An error occurred for p=3, q=2: name 'best_rmse' is not defined\n",
      "An error occurred for p=3, q=3: name 'best_rmse' is not defined\n",
      "An error occurred for p=3, q=4: name 'best_rmse' is not defined\n",
      "An error occurred for p=4, q=0: name 'best_rmse' is not defined\n",
      "An error occurred for p=4, q=1: name 'best_rmse' is not defined\n",
      "An error occurred for p=4, q=2: name 'best_rmse' is not defined\n",
      "An error occurred for p=4, q=3: name 'best_rmse' is not defined\n",
      "An error occurred for p=4, q=4: name 'best_rmse' is not defined\n",
      "Best RMSE: 0.26310886234788533\n",
      "Best MAPE: 42860666920736.25\n"
     ]
    },
    {
     "ename": "NameError",
     "evalue": "name 'order' is not defined",
     "output_type": "error",
     "traceback": [
      "\u001b[1;31m---------------------------------------------------------------------------\u001b[0m",
      "\u001b[1;31mNameError\u001b[0m                                 Traceback (most recent call last)",
      "Cell \u001b[1;32mIn[20], line 30\u001b[0m\n\u001b[0;32m     28\u001b[0m \u001b[38;5;28mprint\u001b[39m(\u001b[38;5;124mf\u001b[39m\u001b[38;5;124m'\u001b[39m\u001b[38;5;124mBest RMSE: \u001b[39m\u001b[38;5;132;01m{\u001b[39;00mrmse\u001b[38;5;132;01m}\u001b[39;00m\u001b[38;5;124m'\u001b[39m)\n\u001b[0;32m     29\u001b[0m \u001b[38;5;28mprint\u001b[39m(\u001b[38;5;124mf\u001b[39m\u001b[38;5;124m'\u001b[39m\u001b[38;5;124mBest MAPE: \u001b[39m\u001b[38;5;132;01m{\u001b[39;00mmape\u001b[38;5;132;01m}\u001b[39;00m\u001b[38;5;124m'\u001b[39m)\n\u001b[1;32m---> 30\u001b[0m \u001b[38;5;28mprint\u001b[39m(\u001b[38;5;124mf\u001b[39m\u001b[38;5;124m'\u001b[39m\u001b[38;5;124mBest order (p, q): \u001b[39m\u001b[38;5;132;01m{\u001b[39;00morder\u001b[38;5;132;01m}\u001b[39;00m\u001b[38;5;124m'\u001b[39m)\n",
      "\u001b[1;31mNameError\u001b[0m: name 'order' is not defined"
     ]
    }
   ],
   "source": [
    "p_values = range(0, 5)\n",
    "q_values = range(0, 5)\n",
    "\n",
    "# Perform grid search\n",
    "for p in p_values:\n",
    "    for q in q_values:\n",
    "        try:\n",
    "            # Fit the ARMA model\n",
    "            model = ARIMA(X_train, order=(p, 0, q))\n",
    "            model_fit = model.fit()\n",
    "            \n",
    "            # Make predictions\n",
    "            predictions = model_fit.forecast(steps=len(X_test))\n",
    "            \n",
    "            # Calculate RMSE and MAPE\n",
    "            rmse = np.sqrt(mean_squared_error(y_test, predictions))\n",
    "            mape = mean_absolute_percentage_error(y_test, predictions)\n",
    "            \n",
    "            # Update the best model if current one is better\n",
    "            if rmse < best_rmse and mape < best_mape:\n",
    "                best_rmse = rmse\n",
    "                best_mape = mape\n",
    "                best_order = (p, q)\n",
    "        except Exception as e:\n",
    "            # Handle exceptions in fitting the model\n",
    "            print(f\"An error occurred for p={p}, q={q}: {e}\")\n",
    "\n",
    "print(f'Best RMSE: {rmse}')\n",
    "print(f'Best MAPE: {mape}')\n",
    "print(f'Best order (p, q): {order}')"
   ]
  },
  {
   "cell_type": "code",
   "execution_count": null,
   "id": "3653d245-ba52-4106-94e2-cdc9601ea407",
   "metadata": {},
   "outputs": [],
   "source": []
  }
 ],
 "metadata": {
  "kernelspec": {
   "display_name": "Python 3 (ipykernel)",
   "language": "python",
   "name": "python3"
  },
  "language_info": {
   "codemirror_mode": {
    "name": "ipython",
    "version": 3
   },
   "file_extension": ".py",
   "mimetype": "text/x-python",
   "name": "python",
   "nbconvert_exporter": "python",
   "pygments_lexer": "ipython3",
   "version": "3.10.14"
  }
 },
 "nbformat": 4,
 "nbformat_minor": 5
}
