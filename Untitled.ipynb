{
 "cells": [
  {
   "cell_type": "code",
   "execution_count": 10,
   "id": "abd73e23-049a-4c2c-8373-9fca8e9e1507",
   "metadata": {},
   "outputs": [
    {
     "name": "stderr",
     "output_type": "stream",
     "text": [
      "[*********************100%%**********************]  1 of 1 completed\n"
     ]
    },
    {
     "data": {
      "text/html": [
       "<div>\n",
       "<style scoped>\n",
       "    .dataframe tbody tr th:only-of-type {\n",
       "        vertical-align: middle;\n",
       "    }\n",
       "\n",
       "    .dataframe tbody tr th {\n",
       "        vertical-align: top;\n",
       "    }\n",
       "\n",
       "    .dataframe thead th {\n",
       "        text-align: right;\n",
       "    }\n",
       "</style>\n",
       "<table border=\"1\" class=\"dataframe\">\n",
       "  <thead>\n",
       "    <tr style=\"text-align: right;\">\n",
       "      <th></th>\n",
       "      <th>Open</th>\n",
       "      <th>High</th>\n",
       "      <th>Low</th>\n",
       "      <th>Close</th>\n",
       "      <th>Adj Close</th>\n",
       "      <th>Volume</th>\n",
       "    </tr>\n",
       "    <tr>\n",
       "      <th>Date</th>\n",
       "      <th></th>\n",
       "      <th></th>\n",
       "      <th></th>\n",
       "      <th></th>\n",
       "      <th></th>\n",
       "      <th></th>\n",
       "    </tr>\n",
       "  </thead>\n",
       "  <tbody>\n",
       "    <tr>\n",
       "      <th>2021-06-01</th>\n",
       "      <td>753.549988</td>\n",
       "      <td>754.000000</td>\n",
       "      <td>741.150024</td>\n",
       "      <td>745.150024</td>\n",
       "      <td>742.489990</td>\n",
       "      <td>6660243</td>\n",
       "    </tr>\n",
       "    <tr>\n",
       "      <th>2021-06-02</th>\n",
       "      <td>744.799988</td>\n",
       "      <td>745.299988</td>\n",
       "      <td>734.200012</td>\n",
       "      <td>737.000000</td>\n",
       "      <td>734.369080</td>\n",
       "      <td>9973043</td>\n",
       "    </tr>\n",
       "    <tr>\n",
       "      <th>2021-06-03</th>\n",
       "      <td>743.000000</td>\n",
       "      <td>752.250000</td>\n",
       "      <td>739.000000</td>\n",
       "      <td>750.650024</td>\n",
       "      <td>747.970398</td>\n",
       "      <td>8170508</td>\n",
       "    </tr>\n",
       "    <tr>\n",
       "      <th>2021-06-04</th>\n",
       "      <td>751.000000</td>\n",
       "      <td>759.900024</td>\n",
       "      <td>740.099976</td>\n",
       "      <td>742.049988</td>\n",
       "      <td>739.401062</td>\n",
       "      <td>10336011</td>\n",
       "    </tr>\n",
       "    <tr>\n",
       "      <th>2021-06-07</th>\n",
       "      <td>743.099976</td>\n",
       "      <td>753.950012</td>\n",
       "      <td>741.500000</td>\n",
       "      <td>751.099976</td>\n",
       "      <td>748.418701</td>\n",
       "      <td>6986728</td>\n",
       "    </tr>\n",
       "    <tr>\n",
       "      <th>...</th>\n",
       "      <td>...</td>\n",
       "      <td>...</td>\n",
       "      <td>...</td>\n",
       "      <td>...</td>\n",
       "      <td>...</td>\n",
       "      <td>...</td>\n",
       "    </tr>\n",
       "    <tr>\n",
       "      <th>2021-12-29</th>\n",
       "      <td>674.500000</td>\n",
       "      <td>679.599976</td>\n",
       "      <td>667.250000</td>\n",
       "      <td>670.500000</td>\n",
       "      <td>668.106506</td>\n",
       "      <td>3969894</td>\n",
       "    </tr>\n",
       "    <tr>\n",
       "      <th>2021-12-30</th>\n",
       "      <td>668.000000</td>\n",
       "      <td>673.099976</td>\n",
       "      <td>664.500000</td>\n",
       "      <td>668.849976</td>\n",
       "      <td>666.462341</td>\n",
       "      <td>5119705</td>\n",
       "    </tr>\n",
       "    <tr>\n",
       "      <th>2021-12-31</th>\n",
       "      <td>672.950012</td>\n",
       "      <td>686.500000</td>\n",
       "      <td>671.200012</td>\n",
       "      <td>678.549988</td>\n",
       "      <td>676.127747</td>\n",
       "      <td>5586980</td>\n",
       "    </tr>\n",
       "    <tr>\n",
       "      <th>2022-01-03</th>\n",
       "      <td>680.250000</td>\n",
       "      <td>698.500000</td>\n",
       "      <td>679.000000</td>\n",
       "      <td>696.349976</td>\n",
       "      <td>693.864136</td>\n",
       "      <td>8550860</td>\n",
       "    </tr>\n",
       "    <tr>\n",
       "      <th>2022-01-04</th>\n",
       "      <td>701.000000</td>\n",
       "      <td>711.049988</td>\n",
       "      <td>700.049988</td>\n",
       "      <td>709.150024</td>\n",
       "      <td>706.618469</td>\n",
       "      <td>9705906</td>\n",
       "    </tr>\n",
       "  </tbody>\n",
       "</table>\n",
       "<p>150 rows × 6 columns</p>\n",
       "</div>"
      ],
      "text/plain": [
       "                  Open        High         Low       Close   Adj Close  \\\n",
       "Date                                                                     \n",
       "2021-06-01  753.549988  754.000000  741.150024  745.150024  742.489990   \n",
       "2021-06-02  744.799988  745.299988  734.200012  737.000000  734.369080   \n",
       "2021-06-03  743.000000  752.250000  739.000000  750.650024  747.970398   \n",
       "2021-06-04  751.000000  759.900024  740.099976  742.049988  739.401062   \n",
       "2021-06-07  743.099976  753.950012  741.500000  751.099976  748.418701   \n",
       "...                ...         ...         ...         ...         ...   \n",
       "2021-12-29  674.500000  679.599976  667.250000  670.500000  668.106506   \n",
       "2021-12-30  668.000000  673.099976  664.500000  668.849976  666.462341   \n",
       "2021-12-31  672.950012  686.500000  671.200012  678.549988  676.127747   \n",
       "2022-01-03  680.250000  698.500000  679.000000  696.349976  693.864136   \n",
       "2022-01-04  701.000000  711.049988  700.049988  709.150024  706.618469   \n",
       "\n",
       "              Volume  \n",
       "Date                  \n",
       "2021-06-01   6660243  \n",
       "2021-06-02   9973043  \n",
       "2021-06-03   8170508  \n",
       "2021-06-04  10336011  \n",
       "2021-06-07   6986728  \n",
       "...              ...  \n",
       "2021-12-29   3969894  \n",
       "2021-12-30   5119705  \n",
       "2021-12-31   5586980  \n",
       "2022-01-03   8550860  \n",
       "2022-01-04   9705906  \n",
       "\n",
       "[150 rows x 6 columns]"
      ]
     },
     "execution_count": 10,
     "metadata": {},
     "output_type": "execute_result"
    }
   ],
   "source": [
    "import pandas as pd\n",
    "from nsepy import get_history\n",
    "import datetime as dt\n",
    "import yfinance as yf\n",
    "    \n",
    "# Define the start and end dates\n",
    "start = dt.datetime(2021, 6, 1)\n",
    "end = dt.datetime(2022, 1, 5)\n",
    "symbol='AXISBANK.NS'\n",
    "\n",
    "stk_data=yf.download(symbol, start=start, end=end)\n",
    "stk_data"
   ]
  },
  {
   "cell_type": "code",
   "execution_count": 11,
   "id": "6ad345e4-6c95-4d9f-ab6d-a5b5a35c8688",
   "metadata": {},
   "outputs": [
    {
     "data": {
      "text/plain": [
       "DatetimeIndex(['2021-06-01', '2021-06-02', '2021-06-03', '2021-06-04',\n",
       "               '2021-06-05', '2021-06-06', '2021-06-07', '2021-06-08',\n",
       "               '2021-06-09', '2021-06-10',\n",
       "               ...\n",
       "               '2021-12-27', '2021-12-28', '2021-12-29', '2021-12-30',\n",
       "               '2021-12-31', '2022-01-01', '2022-01-02', '2022-01-03',\n",
       "               '2022-01-04', '2022-01-05'],\n",
       "              dtype='datetime64[ns]', length=219, freq='D')"
      ]
     },
     "execution_count": 11,
     "metadata": {},
     "output_type": "execute_result"
    }
   ],
   "source": [
    "all_date = pd.date_range(start, end, freq='d')\n",
    "all_date"
   ]
  },
  {
   "cell_type": "code",
   "execution_count": 12,
   "id": "d1c68f70-480a-4e30-8a47-dc549d8ccea4",
   "metadata": {},
   "outputs": [],
   "source": [
    "dummyDate=stk_data"
   ]
  },
  {
   "cell_type": "code",
   "execution_count": 13,
   "id": "f99d4b45-1946-407f-a1cd-90e67dd31cda",
   "metadata": {},
   "outputs": [
    {
     "ename": "ValueError",
     "evalue": "Length mismatch: Expected axis has 150 elements, new values have 219 elements",
     "output_type": "error",
     "traceback": [
      "\u001b[1;31m---------------------------------------------------------------------------\u001b[0m",
      "\u001b[1;31mValueError\u001b[0m                                Traceback (most recent call last)",
      "Cell \u001b[1;32mIn[13], line 1\u001b[0m\n\u001b[1;32m----> 1\u001b[0m dummyDate\u001b[38;5;241m.\u001b[39mindex\u001b[38;5;241m=\u001b[39mall_date\n\u001b[0;32m      2\u001b[0m dummyDate\n",
      "File \u001b[1;32m~\\anaconda3\\envs\\aimachine\\lib\\site-packages\\pandas\\core\\generic.py:6313\u001b[0m, in \u001b[0;36mNDFrame.__setattr__\u001b[1;34m(self, name, value)\u001b[0m\n\u001b[0;32m   6311\u001b[0m \u001b[38;5;28;01mtry\u001b[39;00m:\n\u001b[0;32m   6312\u001b[0m     \u001b[38;5;28mobject\u001b[39m\u001b[38;5;241m.\u001b[39m\u001b[38;5;21m__getattribute__\u001b[39m(\u001b[38;5;28mself\u001b[39m, name)\n\u001b[1;32m-> 6313\u001b[0m     \u001b[38;5;28;01mreturn\u001b[39;00m \u001b[38;5;28;43mobject\u001b[39;49m\u001b[38;5;241;43m.\u001b[39;49m\u001b[38;5;21;43m__setattr__\u001b[39;49m\u001b[43m(\u001b[49m\u001b[38;5;28;43mself\u001b[39;49m\u001b[43m,\u001b[49m\u001b[43m \u001b[49m\u001b[43mname\u001b[49m\u001b[43m,\u001b[49m\u001b[43m \u001b[49m\u001b[43mvalue\u001b[49m\u001b[43m)\u001b[49m\n\u001b[0;32m   6314\u001b[0m \u001b[38;5;28;01mexcept\u001b[39;00m \u001b[38;5;167;01mAttributeError\u001b[39;00m:\n\u001b[0;32m   6315\u001b[0m     \u001b[38;5;28;01mpass\u001b[39;00m\n",
      "File \u001b[1;32mproperties.pyx:69\u001b[0m, in \u001b[0;36mpandas._libs.properties.AxisProperty.__set__\u001b[1;34m()\u001b[0m\n",
      "File \u001b[1;32m~\\anaconda3\\envs\\aimachine\\lib\\site-packages\\pandas\\core\\generic.py:814\u001b[0m, in \u001b[0;36mNDFrame._set_axis\u001b[1;34m(self, axis, labels)\u001b[0m\n\u001b[0;32m    809\u001b[0m \u001b[38;5;250m\u001b[39m\u001b[38;5;124;03m\"\"\"\u001b[39;00m\n\u001b[0;32m    810\u001b[0m \u001b[38;5;124;03mThis is called from the cython code when we set the `index` attribute\u001b[39;00m\n\u001b[0;32m    811\u001b[0m \u001b[38;5;124;03mdirectly, e.g. `series.index = [1, 2, 3]`.\u001b[39;00m\n\u001b[0;32m    812\u001b[0m \u001b[38;5;124;03m\"\"\"\u001b[39;00m\n\u001b[0;32m    813\u001b[0m labels \u001b[38;5;241m=\u001b[39m ensure_index(labels)\n\u001b[1;32m--> 814\u001b[0m \u001b[38;5;28;43mself\u001b[39;49m\u001b[38;5;241;43m.\u001b[39;49m\u001b[43m_mgr\u001b[49m\u001b[38;5;241;43m.\u001b[39;49m\u001b[43mset_axis\u001b[49m\u001b[43m(\u001b[49m\u001b[43maxis\u001b[49m\u001b[43m,\u001b[49m\u001b[43m \u001b[49m\u001b[43mlabels\u001b[49m\u001b[43m)\u001b[49m\n\u001b[0;32m    815\u001b[0m \u001b[38;5;28mself\u001b[39m\u001b[38;5;241m.\u001b[39m_clear_item_cache()\n",
      "File \u001b[1;32m~\\anaconda3\\envs\\aimachine\\lib\\site-packages\\pandas\\core\\internals\\managers.py:238\u001b[0m, in \u001b[0;36mBaseBlockManager.set_axis\u001b[1;34m(self, axis, new_labels)\u001b[0m\n\u001b[0;32m    236\u001b[0m \u001b[38;5;28;01mdef\u001b[39;00m \u001b[38;5;21mset_axis\u001b[39m(\u001b[38;5;28mself\u001b[39m, axis: AxisInt, new_labels: Index) \u001b[38;5;241m-\u001b[39m\u001b[38;5;241m>\u001b[39m \u001b[38;5;28;01mNone\u001b[39;00m:\n\u001b[0;32m    237\u001b[0m     \u001b[38;5;66;03m# Caller is responsible for ensuring we have an Index object.\u001b[39;00m\n\u001b[1;32m--> 238\u001b[0m     \u001b[38;5;28;43mself\u001b[39;49m\u001b[38;5;241;43m.\u001b[39;49m\u001b[43m_validate_set_axis\u001b[49m\u001b[43m(\u001b[49m\u001b[43maxis\u001b[49m\u001b[43m,\u001b[49m\u001b[43m \u001b[49m\u001b[43mnew_labels\u001b[49m\u001b[43m)\u001b[49m\n\u001b[0;32m    239\u001b[0m     \u001b[38;5;28mself\u001b[39m\u001b[38;5;241m.\u001b[39maxes[axis] \u001b[38;5;241m=\u001b[39m new_labels\n",
      "File \u001b[1;32m~\\anaconda3\\envs\\aimachine\\lib\\site-packages\\pandas\\core\\internals\\base.py:98\u001b[0m, in \u001b[0;36mDataManager._validate_set_axis\u001b[1;34m(self, axis, new_labels)\u001b[0m\n\u001b[0;32m     95\u001b[0m     \u001b[38;5;28;01mpass\u001b[39;00m\n\u001b[0;32m     97\u001b[0m \u001b[38;5;28;01melif\u001b[39;00m new_len \u001b[38;5;241m!=\u001b[39m old_len:\n\u001b[1;32m---> 98\u001b[0m     \u001b[38;5;28;01mraise\u001b[39;00m \u001b[38;5;167;01mValueError\u001b[39;00m(\n\u001b[0;32m     99\u001b[0m         \u001b[38;5;124mf\u001b[39m\u001b[38;5;124m\"\u001b[39m\u001b[38;5;124mLength mismatch: Expected axis has \u001b[39m\u001b[38;5;132;01m{\u001b[39;00mold_len\u001b[38;5;132;01m}\u001b[39;00m\u001b[38;5;124m elements, new \u001b[39m\u001b[38;5;124m\"\u001b[39m\n\u001b[0;32m    100\u001b[0m         \u001b[38;5;124mf\u001b[39m\u001b[38;5;124m\"\u001b[39m\u001b[38;5;124mvalues have \u001b[39m\u001b[38;5;132;01m{\u001b[39;00mnew_len\u001b[38;5;132;01m}\u001b[39;00m\u001b[38;5;124m elements\u001b[39m\u001b[38;5;124m\"\u001b[39m\n\u001b[0;32m    101\u001b[0m     )\n",
      "\u001b[1;31mValueError\u001b[0m: Length mismatch: Expected axis has 150 elements, new values have 219 elements"
     ]
    }
   ],
   "source": [
    "dummyDate.index=all_date\n",
    "dummyDate"
   ]
  },
  {
   "cell_type": "code",
   "execution_count": null,
   "id": "c8c10025-f6b7-4311-afa7-a04043cc19c0",
   "metadata": {},
   "outputs": [],
   "source": [
    "import matplotlib.pyplot as plt\n",
    "plt.plot(d[\"Close\"])"
   ]
  },
  {
   "cell_type": "code",
   "execution_count": null,
   "id": "c4c15b63-e1ba-4a41-ac78-01f0acc9197a",
   "metadata": {},
   "outputs": [],
   "source": []
  }
 ],
 "metadata": {
  "kernelspec": {
   "display_name": "Python 3 (ipykernel)",
   "language": "python",
   "name": "python3"
  },
  "language_info": {
   "codemirror_mode": {
    "name": "ipython",
    "version": 3
   },
   "file_extension": ".py",
   "mimetype": "text/x-python",
   "name": "python",
   "nbconvert_exporter": "python",
   "pygments_lexer": "ipython3",
   "version": "3.10.14"
  }
 },
 "nbformat": 4,
 "nbformat_minor": 5
}
