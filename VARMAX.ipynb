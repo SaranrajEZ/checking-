{
 "cells": [
  {
   "cell_type": "code",
   "execution_count": 1,
   "id": "9b9cdacd-291e-47a7-b54e-87bd4cf9dbe3",
   "metadata": {},
   "outputs": [
    {
     "name": "stderr",
     "output_type": "stream",
     "text": [
      "[*********************100%%**********************]  1 of 1 completed\n"
     ]
    }
   ],
   "source": [
    "import pandas as pd\n",
    "import datetime as dt\n",
    "import yfinance as yf\n",
    "from sklearn.preprocessing import MinMaxScaler\n",
    "from statsmodels.tsa.api import VARMAX\n",
    "from sklearn.metrics import mean_squared_error, mean_absolute_percentage_error\n",
    "import matplotlib.pyplot as plt\n",
    "import warnings\n",
    "\n",
    "# Define the start and end dates\n",
    "start = dt.datetime(2021, 6, 1)\n",
    "end = dt.datetime(2022, 1, 5)\n",
    "symbol = 'AXISBANK.NS'\n",
    "\n",
    "# Fetch stock data\n",
    "stk_data = yf.download(symbol, start=start, end=end)\n",
    "stk_data = stk_data[['Open', 'High', 'Low', 'Close']]"
   ]
  },
  {
   "cell_type": "code",
   "execution_count": 2,
   "id": "42a755d8-e6ef-40f4-a798-b74b9ae88ffb",
   "metadata": {},
   "outputs": [],
   "source": [
    "import numpy as np\n",
    "np.random.seed(42)\n",
    "exog_data = pd.DataFrame({\n",
    "    'Exog1': np.random.randn(len(stk_data)),\n",
    "    'Exog2': np.random.randn(len(stk_data))\n",
    "}, index=stk_data.index)"
   ]
  },
  {
   "cell_type": "code",
   "execution_count": 3,
   "id": "a2a8ad6c-3a53-4043-9dce-719d3cc4c30e",
   "metadata": {},
   "outputs": [],
   "source": [
    "scaler = MinMaxScaler()\n",
    "data_normalized = scaler.fit_transform(stk_data)\n",
    "data_normalized = pd.DataFrame(data_normalized, columns=[\"Open\", \"High\", \"Low\", \"Close\"])"
   ]
  },
  {
   "cell_type": "code",
   "execution_count": 4,
   "id": "e6593a75-3355-4e40-9b32-4f4bf7253b0b",
   "metadata": {},
   "outputs": [],
   "source": [
    "exog_normalized = MinMaxScaler().fit_transform(exog_data)\n",
    "exog_normalized = pd.DataFrame(exog_normalized, columns=[\"Exog1\", \"Exog2\"])"
   ]
  },
  {
   "cell_type": "code",
   "execution_count": 5,
   "id": "ab5cca9a-f670-47a4-905b-812c2722e17f",
   "metadata": {},
   "outputs": [],
   "source": [
    "test_obs = 29\n",
    "train_data = data_normalized[:-test_obs]\n",
    "test_data = data_normalized[-test_obs:]\n",
    "train_exog = exog_normalized[:-test_obs]\n",
    "test_exog = exog_normalized[-test_obs:]\n"
   ]
  },
  {
   "cell_type": "code",
   "execution_count": null,
   "id": "c6e255ed-f849-4f43-bd1d-14f4099f5056",
   "metadata": {},
   "outputs": [
    {
     "name": "stdout",
     "output_type": "stream",
     "text": [
      "Order = 1, AIC = -1997.585094281275, BIC = -1891.3450535485988\n",
      "Order = 2, AIC = -2003.2624104187557, BIC = -1852.2897209565317\n",
      "Order = 3, AIC = -1970.9605672285838, BIC = -1775.255229036812\n",
      "Order = 4, AIC = -1939.2496478988287, BIC = -1698.8116609775088\n"
     ]
    }
   ],
   "source": [
    "aic_vals = []\n",
    "bic_vals = []\n",
    "orders = range(1, 6)\n",
    "for p in orders:\n",
    "    model = VARMAX(train_data, exog=train_exog, order=(p, 0))\n",
    "    result = model.fit(method='nm', maxiter=1000, disp=True)  # 'nm' stands for Nelder-Mead\n",
    "    aic_vals.append(result.aic)\n",
    "    bic_vals.append(result.bic)\n",
    "    print(f'Order = {p}, AIC = {result.aic}, BIC = {result.bic}')\n"
   ]
  },
  {
   "cell_type": "code",
   "execution_count": null,
   "id": "ea3a0773-56c3-4970-b7cb-83d12ea80637",
   "metadata": {},
   "outputs": [],
   "source": [
    "# Select the best order based on AIC\n",
    "best_order = orders[aic_vals.index(min(aic_vals))]\n",
    "print(f'Best Order by AIC: {best_order}')\n"
   ]
  },
  {
   "cell_type": "code",
   "execution_count": null,
   "id": "12231b90-12a0-41a9-b9de-71f67a157038",
   "metadata": {},
   "outputs": [],
   "source": [
    "# Fit the selected VARMAX model\n",
    "model = VARMAX(train_data, exog=train_exog, order=(best_order, 0))\n",
    "result = model.fit(disp=False)\n"
   ]
  }
 ],
 "metadata": {
  "kernelspec": {
   "display_name": "Python 3 (ipykernel)",
   "language": "python",
   "name": "python3"
  },
  "language_info": {
   "codemirror_mode": {
    "name": "ipython",
    "version": 3
   },
   "file_extension": ".py",
   "mimetype": "text/x-python",
   "name": "python",
   "nbconvert_exporter": "python",
   "pygments_lexer": "ipython3",
   "version": "3.10.14"
  }
 },
 "nbformat": 4,
 "nbformat_minor": 5
}
